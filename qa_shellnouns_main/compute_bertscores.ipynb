{
 "cells": [
  {
   "cell_type": "markdown",
   "metadata": {},
   "source": [
    "# Compute BERTScores\n",
    "\n",
    "Compute the pairwise similarity of each sentence-short text answer pair using BERTScore [BERTScore: Evaluating Text Generation with BERT](https://arxiv.org/abs/1904.09675).\n",
    "GPU required."
   ]
  },
  {
   "cell_type": "code",
   "execution_count": 2,
   "metadata": {},
   "outputs": [
    {
     "data": {
      "text/html": [
       "<div>\n",
       "<style scoped>\n",
       "    .dataframe tbody tr th:only-of-type {\n",
       "        vertical-align: middle;\n",
       "    }\n",
       "\n",
       "    .dataframe tbody tr th {\n",
       "        vertical-align: top;\n",
       "    }\n",
       "\n",
       "    .dataframe thead th {\n",
       "        text-align: right;\n",
       "    }\n",
       "</style>\n",
       "<table border=\"1\" class=\"dataframe\">\n",
       "  <thead>\n",
       "    <tr style=\"text-align: right;\">\n",
       "      <th></th>\n",
       "      <th></th>\n",
       "      <th>sentence</th>\n",
       "      <th>answer</th>\n",
       "    </tr>\n",
       "    <tr>\n",
       "      <th>batch</th>\n",
       "      <th>file</th>\n",
       "      <th></th>\n",
       "      <th></th>\n",
       "    </tr>\n",
       "  </thead>\n",
       "  <tbody>\n",
       "    <tr>\n",
       "      <th rowspan=\"5\" valign=\"top\">1</th>\n",
       "      <th>1</th>\n",
       "      <td>In the race for Westchester County executive, ...</td>\n",
       "      <td>The changing of the United States Constitution...</td>\n",
       "    </tr>\n",
       "    <tr>\n",
       "      <th>1</th>\n",
       "      <td>In the race for Westchester County executive, ...</td>\n",
       "      <td>Mr Brodsky is criticizing Mr O'Rourke for not ...</td>\n",
       "    </tr>\n",
       "    <tr>\n",
       "      <th>1</th>\n",
       "      <td>In the race for Westchester County executive, ...</td>\n",
       "      <td>Aside from New York city, Westchester has the ...</td>\n",
       "    </tr>\n",
       "    <tr>\n",
       "      <th>1</th>\n",
       "      <td>In the race for Westchester County executive, ...</td>\n",
       "      <td>about abortion</td>\n",
       "    </tr>\n",
       "    <tr>\n",
       "      <th>1</th>\n",
       "      <td>In the race for Westchester County executive, ...</td>\n",
       "      <td>Abortion rights</td>\n",
       "    </tr>\n",
       "  </tbody>\n",
       "</table>\n",
       "</div>"
      ],
      "text/plain": [
       "                                                     sentence  \\\n",
       "batch file                                                      \n",
       "1     1     In the race for Westchester County executive, ...   \n",
       "      1     In the race for Westchester County executive, ...   \n",
       "      1     In the race for Westchester County executive, ...   \n",
       "      1     In the race for Westchester County executive, ...   \n",
       "      1     In the race for Westchester County executive, ...   \n",
       "\n",
       "                                                       answer  \n",
       "batch file                                                     \n",
       "1     1     The changing of the United States Constitution...  \n",
       "      1     Mr Brodsky is criticizing Mr O'Rourke for not ...  \n",
       "      1     Aside from New York city, Westchester has the ...  \n",
       "      1                                        about abortion  \n",
       "      1                                       Abortion rights  "
      ]
     },
     "execution_count": 2,
     "metadata": {},
     "output_type": "execute_result"
    }
   ],
   "source": [
    "import pandas as pd\n",
    "import numpy as np\n",
    "from mapping_util import long_to_wide, wide_to_long\n",
    "\n",
    "\n",
    "annotators = [\"A1\", \"A2\", \"A3\", \"A4\", \"A5\"]\n",
    "\n",
    "# load datasets\n",
    "nyt = pd.read_csv(\n",
    "    \"data/gold_data_mapped.csv\",\n",
    "    index_col=[\"batch\", \"file\"],\n",
    ")\n",
    "sta_df = pd.read_csv(\n",
    "    \"data/clean_answers.csv\",\n",
    "    index_col=[\"batch\", \"file\"],\n",
    ")\n",
    "\n",
    "# join datasets\n",
    "sta_wide = long_to_wide(sta_df, len(annotators), col_names=annotators).answer\n",
    "df = nyt[[\"sentence\"]].join(sta_wide)\n",
    "df_long = wide_to_long(df)\n",
    "\n",
    "# inspect data\n",
    "df_long.head()"
   ]
  },
  {
   "cell_type": "code",
   "execution_count": null,
   "metadata": {},
   "outputs": [],
   "source": [
    "from bert_score import BERTScorer\n",
    "import warnings\n",
    "import logging\n",
    "\n",
    "\n",
    "# Suppress warnings\n",
    "warnings.filterwarnings(\"ignore\", category=FutureWarning)\n",
    "logging.getLogger(\"transformers\").setLevel(logging.ERROR)\n",
    "\n",
    "scorer = BERTScorer(lang=\"en\", rescale_with_baseline=True)\n",
    "\n",
    "\n",
    "def bertscore_(prediction: str, reference: str):\n",
    "    return scorer.score([prediction], [reference])\n",
    "\n",
    "\n",
    "bertscore = np.vectorize(bertscore_)"
   ]
  },
  {
   "cell_type": "code",
   "execution_count": null,
   "metadata": {},
   "outputs": [],
   "source": [
    "# takes about 6 minutes with P100 GPU on kaggle.com\n",
    "scores = bertscore(df_long.sentence.str.lower(), df_long.answer.str.lower())"
   ]
  },
  {
   "cell_type": "code",
   "execution_count": null,
   "metadata": {},
   "outputs": [],
   "source": [
    "# inspect results\n",
    "scores_long = df_long.loc[:]\n",
    "scores_long[[\"precision\", \"recall\", \"fscore\"]] = np.array(scores).T\n",
    "scores_long.head()"
   ]
  },
  {
   "cell_type": "code",
   "execution_count": null,
   "metadata": {},
   "outputs": [],
   "source": [
    "scores_long.to_csv(\"data/bert_scores_long_uncased.csv\")"
   ]
  }
 ],
 "metadata": {
  "kernelspec": {
   "display_name": "clustering-9qBh_5qX",
   "language": "python",
   "name": "python3"
  },
  "language_info": {
   "codemirror_mode": {
    "name": "ipython",
    "version": 3
   },
   "file_extension": ".py",
   "mimetype": "text/x-python",
   "name": "python",
   "nbconvert_exporter": "python",
   "pygments_lexer": "ipython3",
   "version": "3.9.18"
  }
 },
 "nbformat": 4,
 "nbformat_minor": 2
}
