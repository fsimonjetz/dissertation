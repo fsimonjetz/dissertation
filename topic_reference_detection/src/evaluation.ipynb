{
 "cells": [
  {
   "cell_type": "markdown",
   "metadata": {},
   "source": [
    "# Detecting Topic Reference\n",
    "\n",
    "Statistical analyses of the local/global classification experiment presented in Chapter 4.\n",
    "\n",
    "Preprocessing:\n",
    "\n",
    "- The `Coreferential` labels were replaced with `L`\n",
    "- The duplicate text was removed\n",
    "- The German nouns were translated into English\n",
    "\n",
    "The comments were not modified.\n",
    "\n"
   ]
  },
  {
   "cell_type": "code",
   "execution_count": 10,
   "metadata": {},
   "outputs": [
    {
     "data": {
      "text/html": [
       "<div>\n",
       "<style scoped>\n",
       "    .dataframe tbody tr th:only-of-type {\n",
       "        vertical-align: middle;\n",
       "    }\n",
       "\n",
       "    .dataframe tbody tr th {\n",
       "        vertical-align: top;\n",
       "    }\n",
       "\n",
       "    .dataframe thead tr th {\n",
       "        text-align: left;\n",
       "    }\n",
       "\n",
       "    .dataframe thead tr:last-of-type th {\n",
       "        text-align: right;\n",
       "    }\n",
       "</style>\n",
       "<table border=\"1\" class=\"dataframe\">\n",
       "  <thead>\n",
       "    <tr>\n",
       "      <th></th>\n",
       "      <th colspan=\"2\" halign=\"left\">labels</th>\n",
       "      <th colspan=\"2\" halign=\"left\">ratings</th>\n",
       "      <th colspan=\"2\" halign=\"left\">comments</th>\n",
       "    </tr>\n",
       "    <tr>\n",
       "      <th></th>\n",
       "      <th>A</th>\n",
       "      <th>B</th>\n",
       "      <th>A</th>\n",
       "      <th>B</th>\n",
       "      <th>A</th>\n",
       "      <th>B</th>\n",
       "    </tr>\n",
       "    <tr>\n",
       "      <th>shellnoun</th>\n",
       "      <th></th>\n",
       "      <th></th>\n",
       "      <th></th>\n",
       "      <th></th>\n",
       "      <th></th>\n",
       "      <th></th>\n",
       "    </tr>\n",
       "  </thead>\n",
       "  <tbody>\n",
       "    <tr>\n",
       "      <th>fact</th>\n",
       "      <td>L</td>\n",
       "      <td>L</td>\n",
       "      <td>1</td>\n",
       "      <td>3</td>\n",
       "      <td>NaN</td>\n",
       "      <td>In meinen Augen keine Koreferenz i. e. S., da ...</td>\n",
       "    </tr>\n",
       "    <tr>\n",
       "      <th>fact</th>\n",
       "      <td>L</td>\n",
       "      <td>L</td>\n",
       "      <td>1</td>\n",
       "      <td>3</td>\n",
       "      <td>NaN</td>\n",
       "      <td>Ich musst erst überlegen, ob der erste Abschni...</td>\n",
       "    </tr>\n",
       "    <tr>\n",
       "      <th>fact</th>\n",
       "      <td>L</td>\n",
       "      <td>L</td>\n",
       "      <td>2</td>\n",
       "      <td>2</td>\n",
       "      <td>NaN</td>\n",
       "      <td>Scheint ein normaler Fall von Zugänglichmachun...</td>\n",
       "    </tr>\n",
       "    <tr>\n",
       "      <th>fact</th>\n",
       "      <td>L</td>\n",
       "      <td>L</td>\n",
       "      <td>4</td>\n",
       "      <td>2</td>\n",
       "      <td>NaN</td>\n",
       "      <td>Hier scheint sich 'Tatsache' auf die im Satz z...</td>\n",
       "    </tr>\n",
       "    <tr>\n",
       "      <th>fact</th>\n",
       "      <td>L</td>\n",
       "      <td>L</td>\n",
       "      <td>3</td>\n",
       "      <td>2</td>\n",
       "      <td>NaN</td>\n",
       "      <td>'Tatsache' stellt hier scheinbar die im letzte...</td>\n",
       "    </tr>\n",
       "  </tbody>\n",
       "</table>\n",
       "</div>"
      ],
      "text/plain": [
       "          labels    ratings    comments  \\\n",
       "               A  B       A  B        A   \n",
       "shellnoun                                 \n",
       "fact           L  L       1  3      NaN   \n",
       "fact           L  L       1  3      NaN   \n",
       "fact           L  L       2  2      NaN   \n",
       "fact           L  L       4  2      NaN   \n",
       "fact           L  L       3  2      NaN   \n",
       "\n",
       "                                                              \n",
       "                                                           B  \n",
       "shellnoun                                                     \n",
       "fact       In meinen Augen keine Koreferenz i. e. S., da ...  \n",
       "fact       Ich musst erst überlegen, ob der erste Abschni...  \n",
       "fact       Scheint ein normaler Fall von Zugänglichmachun...  \n",
       "fact       Hier scheint sich 'Tatsache' auf die im Satz z...  \n",
       "fact       'Tatsache' stellt hier scheinbar die im letzte...  "
      ]
     },
     "execution_count": 10,
     "metadata": {},
     "output_type": "execute_result"
    }
   ],
   "source": [
    "import pandas as pd\n",
    "\n",
    "df = pd.read_csv(\"../data/annotation/preprocessed.csv\", index_col=\"shellnoun\")\n",
    "\n",
    "# create column multi-index\n",
    "df.columns = pd.MultiIndex.from_tuples(\n",
    "    [col.replace(\"_\", \"s_\").split(\"_\") for col in df]\n",
    ")\n",
    "df.head()"
   ]
  },
  {
   "cell_type": "markdown",
   "metadata": {},
   "source": [
    "### Agreement ratio"
   ]
  },
  {
   "cell_type": "code",
   "execution_count": 11,
   "metadata": {},
   "outputs": [
    {
     "name": "stdout",
     "output_type": "stream",
     "text": [
      "Overall agreement: 0.72\n"
     ]
    },
    {
     "data": {
      "text/plain": [
       "shellnoun\n",
       "decision    0.80\n",
       "problem     0.75\n",
       "fact        0.74\n",
       "issue       0.60\n",
       "dtype: float64"
      ]
     },
     "execution_count": 11,
     "metadata": {},
     "output_type": "execute_result"
    }
   ],
   "source": [
    "agreements = df.labels.A.eq(df.labels.B)\n",
    "\n",
    "print(f\"Overall agreement: {agreements.mean():.2f}\")\n",
    "\n",
    "# per noun\n",
    "agreements.groupby(level=\"shellnoun\").mean().sort_values(ascending=False).round(2)"
   ]
  },
  {
   "cell_type": "markdown",
   "metadata": {},
   "source": [
    "### Confusion matrix"
   ]
  },
  {
   "cell_type": "code",
   "execution_count": 12,
   "metadata": {},
   "outputs": [
    {
     "data": {
      "text/html": [
       "<div>\n",
       "<style scoped>\n",
       "    .dataframe tbody tr th:only-of-type {\n",
       "        vertical-align: middle;\n",
       "    }\n",
       "\n",
       "    .dataframe tbody tr th {\n",
       "        vertical-align: top;\n",
       "    }\n",
       "\n",
       "    .dataframe thead th {\n",
       "        text-align: right;\n",
       "    }\n",
       "</style>\n",
       "<table border=\"1\" class=\"dataframe\">\n",
       "  <thead>\n",
       "    <tr style=\"text-align: right;\">\n",
       "      <th>B</th>\n",
       "      <th>L</th>\n",
       "      <th>G</th>\n",
       "      <th>U</th>\n",
       "    </tr>\n",
       "    <tr>\n",
       "      <th>A</th>\n",
       "      <th></th>\n",
       "      <th></th>\n",
       "      <th></th>\n",
       "    </tr>\n",
       "  </thead>\n",
       "  <tbody>\n",
       "    <tr>\n",
       "      <th>L</th>\n",
       "      <td>49</td>\n",
       "      <td>1</td>\n",
       "      <td>10</td>\n",
       "    </tr>\n",
       "    <tr>\n",
       "      <th>G</th>\n",
       "      <td>5</td>\n",
       "      <td>7</td>\n",
       "      <td>1</td>\n",
       "    </tr>\n",
       "    <tr>\n",
       "      <th>U</th>\n",
       "      <td>4</td>\n",
       "      <td>1</td>\n",
       "      <td>1</td>\n",
       "    </tr>\n",
       "  </tbody>\n",
       "</table>\n",
       "</div>"
      ],
      "text/plain": [
       "B   L  G   U\n",
       "A           \n",
       "L  49  1  10\n",
       "G   5  7   1\n",
       "U   4  1   1"
      ]
     },
     "execution_count": 12,
     "metadata": {},
     "output_type": "execute_result"
    }
   ],
   "source": [
    "confusion = pd.crosstab(df.labels.A, df.labels.B)\n",
    "confusion.loc[[\"L\", \"G\", \"U\"], [\"L\", \"G\", \"U\"]]"
   ]
  },
  {
   "cell_type": "markdown",
   "metadata": {},
   "source": [
    "### Consensus categorization"
   ]
  },
  {
   "cell_type": "code",
   "execution_count": 40,
   "metadata": {},
   "outputs": [
    {
     "name": "stderr",
     "output_type": "stream",
     "text": [
      "<ipython-input-40-eebb8ce915c8>:20: FutureWarning: The previous implementation of stack is deprecated and will be removed in a future version of pandas. See the What's New notes for pandas 2.1.0 for details. Specify future_stack=True to adopt the new implementation and silence this warning.\n",
      "  df.filter(like=\"rating\")\n",
      "/Users/simonjetz/.local/share/virtualenvs/clustering-9qBh_5qX/lib/python3.9/site-packages/plot_likert/plot_likert.py:257: FutureWarning: DataFrame.applymap has been deprecated. Use DataFrame.map instead.\n",
      "  df.applymap(validate)\n"
     ]
    },
    {
     "data": {
      "image/png": "[encoded data removed]",
      "text/plain": [
       "<Figure size 720x288 with 1 Axes>"
      ]
     },
     "metadata": {},
     "output_type": "display_data"
    }
   ],
   "source": [
    "import plot_likert\n",
    "import matplotlib.pyplot as plt\n",
    "import seaborn as sns\n",
    "\n",
    "scale = [\"1 - Easy\", \"2\", \"3\", \"4\", \"5 - Hard\"]\n",
    "\n",
    "# create custom palette\n",
    "palette = plot_likert.colors.default_with_darker_neutral\n",
    "neutral, *colors_ = palette.copy()\n",
    "colors = [neutral, *colors_[::-1]]\n",
    "\n",
    "# visual settings\n",
    "plt.rcParams[\"figure.figsize\"] = (10, 4)\n",
    "FONTSIZE = 16\n",
    "sns.set_style(\"darkgrid\")\n",
    "\n",
    "\n",
    "# pivot data\n",
    "frame = (\n",
    "    df.filter(like=\"rating\")\n",
    "    .stack()\n",
    "    .droplevel(1)\n",
    "    .map(dict(enumerate(scale, start=1)).get)\n",
    ")\n",
    "\n",
    "frame = (\n",
    "    frame.groupby(level=\"shellnoun\")\n",
    "    .apply(pd.DataFrame.reset_index, drop=True)\n",
    "    .unstack(level=0)\n",
    "    .droplevel(0, axis=1)\n",
    ")[[\"fact\", \"decision\", \"problem\", \"issue\"]]\n",
    "\n",
    "# plot the ratings\n",
    "ax = plot_likert.plot_likert(frame, plot_scale=scale, colors=colors, width=0.3)\n",
    "ax.xaxis.set_visible(False)\n",
    "\n",
    "ax.legend(title=\"Difficulty\", fontsize=FONTSIZE - 6, title_fontsize=FONTSIZE - 6)\n",
    "\n",
    "# add bar labels\n",
    "for bars in ax.containers[1:]:\n",
    "    ax.bar_label(bars, label_type=\"center\", fontsize=FONTSIZE - 6, color=\"white\")\n",
    "\n",
    "ax.tick_params(labelsize=FONTSIZE - 4)"
   ]
  },
  {
   "cell_type": "markdown",
   "metadata": {},
   "source": [
    "### Inter-annotator agreement"
   ]
  },
  {
   "cell_type": "code",
   "execution_count": 16,
   "metadata": {},
   "outputs": [
    {
     "name": "stdout",
     "output_type": "stream",
     "text": [
      "Alpha=0.3249\n"
     ]
    }
   ],
   "source": [
    "import krippendorff as kd\n",
    "from statsmodels.stats import inter_rater as irr\n",
    "\n",
    "# translate labels into integer codes\n",
    "numerical_labels = df.labels.astype(\"category\").apply(lambda col: col.cat.codes)\n",
    "alpha_total = round(\n",
    "    kd.alpha(numerical_labels.values.T, level_of_measurement=\"nominal\"), 4\n",
    ")\n",
    "\n",
    "print(f\"Alpha={alpha_total}\")"
   ]
  },
  {
   "cell_type": "markdown",
   "metadata": {},
   "source": [
    "### Mann Whitney U test"
   ]
  },
  {
   "cell_type": "code",
   "execution_count": 36,
   "metadata": {},
   "outputs": [
    {
     "data": {
      "text/html": [
       "<div>\n",
       "<style scoped>\n",
       "    .dataframe tbody tr th:only-of-type {\n",
       "        vertical-align: middle;\n",
       "    }\n",
       "\n",
       "    .dataframe tbody tr th {\n",
       "        vertical-align: top;\n",
       "    }\n",
       "\n",
       "    .dataframe thead th {\n",
       "        text-align: right;\n",
       "    }\n",
       "</style>\n",
       "<table border=\"1\" class=\"dataframe\">\n",
       "  <thead>\n",
       "    <tr style=\"text-align: right;\">\n",
       "      <th>shellnoun</th>\n",
       "      <th>fact</th>\n",
       "      <th>decision</th>\n",
       "      <th>problem</th>\n",
       "      <th>issue</th>\n",
       "    </tr>\n",
       "    <tr>\n",
       "      <th>shellnoun</th>\n",
       "      <th></th>\n",
       "      <th></th>\n",
       "      <th></th>\n",
       "      <th></th>\n",
       "    </tr>\n",
       "  </thead>\n",
       "  <tbody>\n",
       "    <tr>\n",
       "      <th>fact</th>\n",
       "      <td>1.000000</td>\n",
       "      <td>0.443057</td>\n",
       "      <td>0.499465</td>\n",
       "      <td>0.039022</td>\n",
       "    </tr>\n",
       "    <tr>\n",
       "      <th>decision</th>\n",
       "      <td>0.443057</td>\n",
       "      <td>1.000000</td>\n",
       "      <td>0.150129</td>\n",
       "      <td>0.004391</td>\n",
       "    </tr>\n",
       "    <tr>\n",
       "      <th>problem</th>\n",
       "      <td>0.499465</td>\n",
       "      <td>0.150129</td>\n",
       "      <td>1.000000</td>\n",
       "      <td>0.191056</td>\n",
       "    </tr>\n",
       "    <tr>\n",
       "      <th>issue</th>\n",
       "      <td>0.039022</td>\n",
       "      <td>0.004391</td>\n",
       "      <td>0.191056</td>\n",
       "      <td>1.000000</td>\n",
       "    </tr>\n",
       "  </tbody>\n",
       "</table>\n",
       "</div>"
      ],
      "text/plain": [
       "shellnoun      fact  decision   problem     issue\n",
       "shellnoun                                        \n",
       "fact       1.000000  0.443057  0.499465  0.039022\n",
       "decision   0.443057  1.000000  0.150129  0.004391\n",
       "problem    0.499465  0.150129  1.000000  0.191056\n",
       "issue      0.039022  0.004391  0.191056  1.000000"
      ]
     },
     "execution_count": 36,
     "metadata": {},
     "output_type": "execute_result"
    }
   ],
   "source": [
    "from scipy.stats import mannwhitneyu\n",
    "import numpy as np\n",
    "\n",
    "numerical_ratings = df.ratings.stack().droplevel(1).astype(\"category\").cat.codes\n",
    "\n",
    "\n",
    "def get_mannwhitneyu_(noun1, noun2):\n",
    "    labels1 = numerical_ratings.loc[noun1]\n",
    "    labels2 = numerical_ratings.loc[noun2]\n",
    "\n",
    "    U_value, p_value = mannwhitneyu(labels1, labels2, alternative=\"two-sided\")\n",
    "\n",
    "    return p_value\n",
    "\n",
    "\n",
    "get_mannwhitneyu = np.vectorize(get_mannwhitneyu_)\n",
    "\n",
    "nouns = df.index.unique()\n",
    "p_values = pd.DataFrame(\n",
    "    get_mannwhitneyu(nouns, nouns.values[:, None]), index=nouns, columns=nouns\n",
    ")\n",
    "\n",
    "p_values"
   ]
  },
  {
   "cell_type": "markdown",
   "metadata": {},
   "source": [
    "## "
   ]
  }
 ],
 "metadata": {
  "kernelspec": {
   "display_name": "clustering-9qBh_5qX",
   "language": "python",
   "name": "python3"
  },
  "language_info": {
   "codemirror_mode": {
    "name": "ipython",
    "version": 3
   },
   "file_extension": ".py",
   "mimetype": "text/x-python",
   "name": "python",
   "nbconvert_exporter": "python",
   "pygments_lexer": "ipython3",
   "version": "3.9.18"
  }
 },
 "nbformat": 4,
 "nbformat_minor": 2
}
